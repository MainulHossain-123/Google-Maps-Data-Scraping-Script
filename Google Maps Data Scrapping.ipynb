{
 "cells": [
  {
   "cell_type": "code",
   "execution_count": null,
   "id": "83452322",
   "metadata": {},
   "outputs": [],
   "source": [
    "import googlemaps\n",
    "import pprint\n",
    "import time\n",
    "import json\n",
    "import csv\n",
    "import pandas as pd"
   ]
  },
  {
   "cell_type": "code",
   "execution_count": null,
   "id": "f2e41f63",
   "metadata": {},
   "outputs": [],
   "source": [
    "#Define API Key\n",
    "API_KEY = 'Your API Key'"
   ]
  },
  {
   "cell_type": "code",
   "execution_count": null,
   "id": "8c7ab319",
   "metadata": {},
   "outputs": [],
   "source": [
    "#Define Client\n",
    "gmaps = googlemaps.Client(key = API_KEY)"
   ]
  },
  {
   "cell_type": "code",
   "execution_count": null,
   "id": "09623488",
   "metadata": {},
   "outputs": [],
   "source": [
    "#Defining Search\n",
    "places_result = gmaps.places_nearby(location= '23.738983650348153, 90.38849300072003', radius = 50000, open_now=False, type = \"Restaurant\")"
   ]
  },
  {
   "cell_type": "code",
   "execution_count": null,
   "id": "7112c936",
   "metadata": {},
   "outputs": [],
   "source": [
    "pprint.pprint(places_result)"
   ]
  },
  {
   "cell_type": "code",
   "execution_count": null,
   "id": "b6d0eadc",
   "metadata": {},
   "outputs": [],
   "source": [
    "x=0\n",
    "\n",
    "#loop through each place in results\n",
    "for place in places_result['results']:\n",
    "    #define individual place ID's\n",
    "    my_place_id = place[\"place_id\"]\n",
    "        \n",
    "    #define fields to be sent back\n",
    "    my_fields = ['name', 'geometry', 'rating', 'user_ratings_total', 'price_level']\n",
    "    \n",
    "    #store details\n",
    "    place_details = gmaps.place(place_id= my_place_id, fields= my_fields)\n",
    "    \n",
    "    #dumping strings of info to json format\n",
    "    json_string = json.dumps(place_details)\n",
    "    data = json.load(open('json_data.json'))\n",
    "    \n",
    "    #to allow a single run loop for creating the CSV file\n",
    "    if x<=0:\n",
    "        while x<=0:\n",
    "            df = pd.DataFrame(data[\"result\"])\n",
    "            df.to_csv (r'C:\\Users\\User\\json_data_converted.csv', index = None)\n",
    "            x+=1\n",
    "                \n",
    "    #For appending each new row to the CSV file everytime it is opened\n",
    "    #to avoid overwriting previous content\n",
    "    with open(r'json_data_converted.csv','a') as fd:\n",
    "    fd.write(data['result'])\n",
    "        "
   ]
  },
  {
   "cell_type": "code",
   "execution_count": null,
   "id": "57b95807",
   "metadata": {},
   "outputs": [],
   "source": [
    "# reading the CSV file\n",
    "text = open(\"json_data_converted.csv\", \"r\")\n",
    "\n",
    "#join() method combines all contents of\n",
    "# csvfile.csv and formed as a string\n",
    "text = ''.join([i for i in text])\n",
    "\n",
    "# search and replace the contents\n",
    "text = text.replace(\"price_level\", \"affluence\")\n",
    "\n",
    "# output.csv is the output file opened in write mode\n",
    "x = open(\"GoogleMaps Restaurant Information.csv\",\"w\")\n",
    "\n",
    "# all the replaced text is written in the output.csv file\n",
    "x.writelines(text)\n",
    "x.close()\n"
   ]
  },
  {
   "cell_type": "code",
   "execution_count": null,
   "id": "759925cc",
   "metadata": {},
   "outputs": [],
   "source": [
    "#Defining Search to move to next page\n",
    "places_result = gmaps.places_nearby(page_token=places_result['next_page_token'])"
   ]
  }
 ],
 "metadata": {
  "kernelspec": {
   "display_name": "Python 3",
   "language": "python",
   "name": "python3"
  },
  "language_info": {
   "codemirror_mode": {
    "name": "ipython",
    "version": 3
   },
   "file_extension": ".py",
   "mimetype": "text/x-python",
   "name": "python",
   "nbconvert_exporter": "python",
   "pygments_lexer": "ipython3",
   "version": "3.8.8"
  }
 },
 "nbformat": 4,
 "nbformat_minor": 5
}
